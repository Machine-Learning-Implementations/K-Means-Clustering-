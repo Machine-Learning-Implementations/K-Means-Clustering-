{
  "nbformat": 4,
  "nbformat_minor": 0,
  "metadata": {
    "colab": {
      "provenance": []
    },
    "kernelspec": {
      "name": "python3",
      "display_name": "Python 3"
    },
    "language_info": {
      "name": "python"
    }
  },
  "cells": [
    {
      "cell_type": "markdown",
      "source": [
        "**K means Clustering**"
      ],
      "metadata": {
        "id": "b5I3AIQ_2kXQ"
      }
    },
    {
      "cell_type": "code",
      "source": [
        "import numpy as np\n",
        "import matplotlib.pyplot as plt\n",
        "from sklearn.cluster import KMeans\n",
        "\n",
        "# Number of clusters\n",
        "k = 3\n",
        "\n",
        "# Data points\n",
        "X = np.array([[1, 2], [1, 4], [1, 0], [10, 2], [10, 4], [10, 0]])\n",
        "\n",
        "# K-Means clustering\n",
        "kmeans = KMeans(n_clusters=k)\n",
        "kmeans.fit(X)\n",
        "\n",
        "# Centroids\n",
        "centroids = kmeans.cluster_centers_\n",
        "\n",
        "# Labels\n",
        "labels = kmeans.labels_\n",
        "\n",
        "# Print centroids\n",
        "print(\"Centroids:\")\n",
        "print(centroids)\n",
        "\n",
        "# Print labels\n",
        "print(\"Labels:\")\n",
        "print(labels)\n",
        "\n",
        "# Plot data points and centroids\n",
        "plt.scatter(X[:, 0], X[:, 1], c=labels, cmap='viridis')\n",
        "plt.scatter(centroids[:, 0], centroids[:, 1], c='black', s=200, alpha=0.5)\n",
        "plt.show()"
      ],
      "metadata": {
        "colab": {
          "base_uri": "https://localhost:8080/",
          "height": 589
        },
        "id": "VzPvji73rBwU",
        "outputId": "80b295f7-4c0e-4369-b6a4-f37897dfc6eb"
      },
      "execution_count": 1,
      "outputs": [
        {
          "output_type": "stream",
          "name": "stderr",
          "text": [
            "/usr/local/lib/python3.10/dist-packages/sklearn/cluster/_kmeans.py:870: FutureWarning: The default value of `n_init` will change from 10 to 'auto' in 1.4. Set the value of `n_init` explicitly to suppress the warning\n",
            "  warnings.warn(\n"
          ]
        },
        {
          "output_type": "stream",
          "name": "stdout",
          "text": [
            "Centroids:\n",
            "[[ 1.  2.]\n",
            " [10.  3.]\n",
            " [10.  0.]]\n",
            "Labels:\n",
            "[0 0 0 1 1 2]\n"
          ]
        },
        {
          "output_type": "display_data",
          "data": {
            "text/plain": [
              "<Figure size 640x480 with 1 Axes>"
            ],
            "image/png": "[encoded data removed]"
          },
          "metadata": {}
        }
      ]
    },
    {
      "cell_type": "code",
      "source": [
        "import numpy as np\n",
        "\n",
        "class KMeans:\n",
        "    def __init__(self, K=5, max_iters=1000):\n",
        "        self.K = K\n",
        "        self.max_iters = max_iters\n",
        "\n",
        "    def initialize_centroids(self, X):\n",
        "        m, n = np.shape(X)\n",
        "        centroids = np.mat(np.zeros((self.K, n)))\n",
        "        for i in range(self.K):\n",
        "            centroid = X[np.random.choice(range(m))]\n",
        "            centroids[i] = centroid\n",
        "        return centroids\n",
        "\n",
        "    def euclidean_distance(self, A, B):\n",
        "        return np.linalg.norm(A - B)\n",
        "\n",
        "    def create_clusters(self, X, centroids):\n",
        "        m, n = np.shape(X)\n",
        "        clusters = [[] for _ in range(self.K)]\n",
        "        for i in range(m):\n",
        "            min_dist = float('inf')\n",
        "            cluster_index = -1\n",
        "            for j in range(self.K):\n",
        "                dist = self.euclidean_distance(X[i], centroids[j])\n",
        "                if dist < min_dist:\n",
        "                    min_dist = dist\n",
        "                    cluster_index = j\n",
        "            clusters[cluster_index].append(X[i])\n",
        "        return clusters\n",
        "\n",
        "    def update_centroids(self, clusters):\n",
        "        centroids = []\n",
        "        for cluster in clusters:\n",
        "            if not cluster:\n",
        "                centroid = np.random.rand(1, np.shape(cluster)[1])\n",
        "            else:\n",
        "                centroid = np.mean(cluster, axis=0)\n",
        "            centroids.append(centroid)\n",
        "        return np.mat(centroids)\n",
        "\n",
        "    def has_converged(self, centroids, new_centroids):\n",
        "        return np.all(np.array_equal(centroids, new_centroids))\n",
        "\n",
        "    def fit(self, X):\n",
        "        centroids = self.initialize_centroids(X)\n",
        "        for _ in range(self.max_iters):\n",
        "            clusters = self.create_clusters(X, centroids)\n",
        "            new_centroids = self.update_centroids(clusters)\n",
        "            if self.has_converged(centroids, new_centroids):\n",
        "                break\n",
        "            centroids = new_centroids\n",
        "        return centroids, clusters"
      ],
      "metadata": {
        "id": "y4RVM9e7rL1E"
      },
      "execution_count": 3,
      "outputs": []
    },
    {
      "cell_type": "code",
      "source": [
        "#Here is an optimized implementation of K-Means clustering in Python:\n",
        "\n",
        "import numpy as np\n",
        "import matplotlib.pyplot as plt\n",
        "\n",
        "# Number of clusters\n",
        "k = 3\n",
        "\n",
        "# Data points\n",
        "X = np.array([[1, 2], [1, 4], [1, 0], [10, 2], [10, 4], [10, 0]])\n",
        "\n",
        "# Initialize centroids\n",
        "centroids = X[np.random.choice(X.shape[0], k, replace=False)]\n",
        "\n",
        "# Early stopping criteria\n",
        "early_stopping_threshold = 0.001\n",
        "early_stopping_counter = 0\n",
        "\n",
        "while True:\n",
        "    # Assign each data point to the closest centroid\n",
        "    labels = np.argmin(np.linalg.norm(X[:, np.newaxis] - centroids, axis=2), axis=1)\n",
        "\n",
        "    # Calculate new centroids\n",
        "    new_centroids = np.array([X[labels == i].mean(axis=0) for i in range(k)])\n",
        "\n",
        "    # Check for convergence\n",
        "    if np.linalg.norm(centroids - new_centroids) < early_stopping_threshold:\n",
        "        early_stopping_counter += 1\n",
        "    else:\n",
        "        early_stopping_counter = 0\n",
        "\n",
        "    # Update centroids\n",
        "    centroids = new_centroids\n",
        "\n",
        "    # Check for early stopping\n",
        "    if early_stopping_counter >= 5:\n",
        "        break\n",
        "\n",
        "# Print centroids\n",
        "print(\"Centroids:\")\n",
        "print(centroids)\n",
        "\n",
        "# Print labels\n",
        "print(\"Labels:\")\n",
        "print(labels)\n",
        "\n",
        "# Plot data points and centroids\n",
        "plt.scatter(X[:, 0], X[:, 1], c=labels, cmap='viridis')\n",
        "plt.scatter(centroids[:, 0], centroids[:, 1], c='black', s=200, alpha=0.5)\n",
        "plt.show()"
      ],
      "metadata": {
        "colab": {
          "base_uri": "https://localhost:8080/",
          "height": 534
        },
        "id": "I_86PIY01hzM",
        "outputId": "d8b49c9d-46c5-45db-cb92-53f96eef4001"
      },
      "execution_count": 4,
      "outputs": [
        {
          "output_type": "stream",
          "name": "stdout",
          "text": [
            "Centroids:\n",
            "[[ 1.  0.]\n",
            " [ 1.  3.]\n",
            " [10.  2.]]\n",
            "Labels:\n",
            "[1 1 0 2 2 2]\n"
          ]
        },
        {
          "output_type": "display_data",
          "data": {
            "text/plain": [
              "<Figure size 640x480 with 1 Axes>"
            ],
            "image/png": "[encoded data removed]"
          },
          "metadata": {}
        }
      ]
    },
    {
      "cell_type": "markdown",
      "source": [
        "In this code, we use the same data points `X` as in the previous code. We initialize the centroids by randomly choosing `k` data points from `X`. We then enter a loop where we assign each data point to the closest centroid, calculate new centroids, and check for convergence. If the centroids don't change significantly, we increment the early stopping counter. If the early stopping counter reaches 5, we stop the loop. Finally, we print the centroids and labels, and plot the data points and centroids.\n",
        "\n",
        "This optimized implementation uses early stopping, which means it stops when the centroids don't change significantly. This can greatly reduce the number of iterations, especially for larger datasets. Additionally, it uses vectorization, which means it uses numpy's vectorized operations to calculate distances and labels, which is much faster than using a for loop."
      ],
      "metadata": {
        "id": "PW4OeSxs1ty3"
      }
    },
    {
      "cell_type": "markdown",
      "source": [
        "**kMedian**"
      ],
      "metadata": {
        "id": "NYWmNmZu2L2w"
      }
    },
    {
      "cell_type": "code",
      "source": [
        "import numpy as np\n",
        "import matplotlib.pyplot as plt\n",
        "\n",
        "# Number of clusters\n",
        "k = 3\n",
        "\n",
        "# Data points\n",
        "X = np.array([[1, 2], [1, 4], [1, 0], [10, 2], [10, 4], [10, 0]])\n",
        "\n",
        "# Initialize centroids\n",
        "centroids = X[np.random.choice(X.shape[0], k, replace=False)]\n",
        "\n",
        "# Early stopping criteria\n",
        "early_stopping_threshold = 0.001\n",
        "early_stopping_counter = 0\n",
        "\n",
        "while True:\n",
        "    # Assign each data point to the closest centroid\n",
        "    labels = np.argmin(np.linalg.norm(X[:, np.newaxis] - centroids, axis=2), axis=1)\n",
        "\n",
        "    # Calculate new centroids\n",
        "    new_centroids = np.array([X[labels == i].mean(axis=0) for i in range(k)])\n",
        "\n",
        "    # Check for convergence\n",
        "    if np.linalg.norm(centroids - new_centroids) < early_stopping_threshold:\n",
        "        early_stopping_counter += 1\n",
        "    else:\n",
        "        early_stopping_counter = 0\n",
        "\n",
        "    # Update centroids\n",
        "    centroids = new_centroids\n",
        "\n",
        "    # Check for early stopping\n",
        "    if early_stopping_counter >= 5:\n",
        "        break\n",
        "\n",
        "# Compute KMedian\n",
        "kmedian = np.array([np.median(X[labels == i], axis=0) for i in range(k)])\n",
        "\n",
        "# Print centroids\n",
        "print(\"Centroids:\")\n",
        "print(centroids)\n",
        "\n",
        "# Print labels\n",
        "print(\"Labels:\")\n",
        "print(labels)\n",
        "\n",
        "# Print KMedian\n",
        "print(\"KMedian:\")\n",
        "print(kmedian)\n",
        "\n",
        "# Plot data points and centroids\n",
        "plt.scatter(X[:, 0], X[:, 1], c=labels, cmap='viridis')\n",
        "plt.scatter(centroids[:, 0], centroids[:, 1], c='black', s=200, alpha=0.5)\n",
        "plt.scatter(kmedian[:, 0], kmedian[:, 1], c='red', s=200, alpha=0.5)\n",
        "plt.show()"
      ],
      "metadata": {
        "colab": {
          "base_uri": "https://localhost:8080/",
          "height": 604
        },
        "id": "dcwAvuYr1xeV",
        "outputId": "34be8d2f-259c-4161-d892-7041c24c1e0c"
      },
      "execution_count": 5,
      "outputs": [
        {
          "output_type": "stream",
          "name": "stdout",
          "text": [
            "Centroids:\n",
            "[[5.5 2. ]\n",
            " [5.5 4. ]\n",
            " [5.5 0. ]]\n",
            "Labels:\n",
            "[0 1 2 0 1 2]\n",
            "KMedian:\n",
            "[[5.5 2. ]\n",
            " [5.5 4. ]\n",
            " [5.5 0. ]]\n"
          ]
        },
        {
          "output_type": "display_data",
          "data": {
            "text/plain": [
              "<Figure size 640x480 with 1 Axes>"
            ],
            "image/png": "[encoded data removed]"
          },
          "metadata": {}
        }
      ]
    },
    {
      "cell_type": "markdown",
      "source": [
        "This code computes the KMedian by finding the median of the data points in each cluster. The median is computed using numpy's median function. The KMedian is then printed and plotted on the graph."
      ],
      "metadata": {
        "id": "bcW4zJ4F2Yu_"
      }
    },
    {
      "cell_type": "code",
      "source": [],
      "metadata": {
        "id": "_r7hBRv32Zmw"
      },
      "execution_count": null,
      "outputs": []
    }
  ]
}